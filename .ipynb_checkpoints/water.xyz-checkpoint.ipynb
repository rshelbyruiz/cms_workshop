{
 "cells": [
  {
   "cell_type": "markdown",
   "metadata": {},
   "source": [
    "water.xyz"
   ]
  },
  {
   "cell_type": "code",
   "execution_count": 1,
   "metadata": {},
   "outputs": [
    {
     "name": "stdout",
     "output_type": "stream",
     "text": [
      " Volume in drive C has no label.\n",
      " Volume Serial Number is BA8D-A6C9\n",
      "\n",
      " Directory of C:\\Users\\Shelby\\Desktop\\cms-workshop\n",
      "\n",
      "05/15/2019  04:37 PM    <DIR>          .\n",
      "05/15/2019  04:37 PM    <DIR>          ..\n",
      "05/15/2019  04:37 PM    <DIR>          .ipynb_checkpoints\n",
      "05/15/2019  02:37 PM    <DIR>          data\n",
      "05/15/2019  09:06 AM               931 data - Shortcut.lnk\n",
      "05/15/2019  09:05 AM           191,618 data.zip\n",
      "05/15/2019  03:38 PM               319 energies.txt\n",
      "05/15/2019  03:46 PM            20,704 file-parsing.ipynb\n",
      "05/15/2019  02:07 PM             9,571 MoISSI Workshop.ipynb\n",
      "05/15/2019  04:36 PM            19,269 tabular-data.ipynb\n",
      "05/15/2019  04:36 PM                72 water.xyz.ipynb\n",
      "               7 File(s)        242,484 bytes\n",
      "               4 Dir(s)  19,101,913,088 bytes free\n"
     ]
    }
   ],
   "source": [
    "ls"
   ]
  },
  {
   "cell_type": "code",
   "execution_count": 13,
   "metadata": {},
   "outputs": [
    {
     "name": "stdout",
     "output_type": "stream",
     "text": [
      " Volume in drive C has no label.\n",
      " Volume Serial Number is BA8D-A6C9\n",
      "\n",
      " Directory of C:\\Users\\Shelby\\Desktop\n",
      "\n",
      "05/15/2019  02:19 PM    <DIR>          .\n",
      "05/15/2019  02:19 PM    <DIR>          ..\n",
      "05/15/2019  10:30 AM             2,246 Atom.lnk\n",
      "05/15/2019  04:42 PM    <DIR>          cms-workshop\n",
      "09/15/2018  04:01 PM             1,417 Microsoft Edge.lnk\n",
      "02/25/2019  10:12 PM             1,743 Ultra Fractal 6.02.lnk\n",
      "               3 File(s)          5,406 bytes\n",
      "               3 Dir(s)  19,102,539,776 bytes free\n"
     ]
    }
   ],
   "source": [
    "ls"
   ]
  },
  {
   "cell_type": "code",
   "execution_count": 15,
   "metadata": {},
   "outputs": [
    {
     "name": "stdout",
     "output_type": "stream",
     "text": [
      " Volume in drive C has no label.\n",
      " Volume Serial Number is BA8D-A6C9\n",
      "\n",
      " Directory of C:\\Users\\Shelby\\Desktop\\cms-workshop\n",
      "\n",
      "05/15/2019  04:42 PM    <DIR>          .\n",
      "05/15/2019  04:42 PM    <DIR>          ..\n",
      "05/15/2019  04:37 PM    <DIR>          .ipynb_checkpoints\n",
      "05/15/2019  02:37 PM    <DIR>          data\n",
      "05/15/2019  09:06 AM               931 data - Shortcut.lnk\n",
      "05/15/2019  09:05 AM           191,618 data.zip\n",
      "05/15/2019  03:38 PM               319 energies.txt\n",
      "05/15/2019  03:46 PM            20,704 file-parsing.ipynb\n",
      "05/15/2019  02:07 PM             9,571 MoISSI Workshop.ipynb\n",
      "05/15/2019  04:36 PM            19,269 tabular-data.ipynb\n",
      "05/15/2019  04:42 PM             4,065 water.xyz.ipynb\n",
      "               7 File(s)        246,477 bytes\n",
      "               4 Dir(s)  19,102,539,776 bytes free\n"
     ]
    }
   ],
   "source": [
    "ls cms-workshop"
   ]
  },
  {
   "cell_type": "code",
   "execution_count": 16,
   "metadata": {},
   "outputs": [
    {
     "data": {
      "text/plain": [
       "'C:\\\\Users\\\\Shelby\\\\Desktop'"
      ]
     },
     "execution_count": 16,
     "metadata": {},
     "output_type": "execute_result"
    }
   ],
   "source": []
  },
  {
   "cell_type": "code",
   "execution_count": 9,
   "metadata": {},
   "outputs": [
    {
     "ename": "NameError",
     "evalue": "name 'water' is not defined",
     "output_type": "error",
     "traceback": [
      "\u001b[1;31m---------------------------------------------------------------------------\u001b[0m",
      "\u001b[1;31mNameError\u001b[0m                                 Traceback (most recent call last)",
      "\u001b[1;32m<ipython-input-9-51c0aead838f>\u001b[0m in \u001b[0;36m<module>\u001b[1;34m\u001b[0m\n\u001b[0;32m      1\u001b[0m \u001b[0mwater_file\u001b[0m \u001b[1;33m=\u001b[0m \u001b[0mos\u001b[0m\u001b[1;33m.\u001b[0m\u001b[0mpath\u001b[0m\u001b[1;33m.\u001b[0m\u001b[0mjoin\u001b[0m\u001b[1;33m(\u001b[0m\u001b[1;34m'data'\u001b[0m\u001b[1;33m,\u001b[0m \u001b[1;34m'water.xyz'\u001b[0m\u001b[1;33m)\u001b[0m\u001b[1;33m\u001b[0m\u001b[1;33m\u001b[0m\u001b[0m\n\u001b[1;32m----> 2\u001b[1;33m \u001b[0mprint\u001b[0m\u001b[1;33m(\u001b[0m\u001b[0mwater\u001b[0m\u001b[1;33m.\u001b[0m\u001b[0mxyz\u001b[0m\u001b[1;33m)\u001b[0m\u001b[1;33m\u001b[0m\u001b[1;33m\u001b[0m\u001b[0m\n\u001b[0m",
      "\u001b[1;31mNameError\u001b[0m: name 'water' is not defined"
     ]
    }
   ],
   "source": [
    "water_file = os.path.join('data', 'water.xyz')\n",
    "print(water.xyz)"
   ]
  },
  {
   "cell_type": "code",
   "execution_count": 17,
   "metadata": {},
   "outputs": [
    {
     "name": "stdout",
     "output_type": "stream",
     "text": [
      "C:\\Users\\Shelby\n"
     ]
    }
   ],
   "source": [
    "cd .."
   ]
  },
  {
   "cell_type": "code",
   "execution_count": 19,
   "metadata": {},
   "outputs": [
    {
     "name": "stdout",
     "output_type": "stream",
     "text": [
      " Volume in drive C has no label.\n",
      " Volume Serial Number is BA8D-A6C9\n",
      "\n",
      " Directory of C:\\Users\\Shelby\\desktop\n",
      "\n",
      "05/15/2019  02:19 PM    <DIR>          .\n",
      "05/15/2019  02:19 PM    <DIR>          ..\n",
      "05/15/2019  10:30 AM             2,246 Atom.lnk\n",
      "05/15/2019  04:44 PM    <DIR>          cms-workshop\n",
      "09/15/2018  04:01 PM             1,417 Microsoft Edge.lnk\n",
      "02/25/2019  10:12 PM             1,743 Ultra Fractal 6.02.lnk\n",
      "               3 File(s)          5,406 bytes\n",
      "               3 Dir(s)  19,102,363,648 bytes free\n"
     ]
    }
   ],
   "source": [
    "ls desktop"
   ]
  },
  {
   "cell_type": "code",
   "execution_count": 21,
   "metadata": {},
   "outputs": [
    {
     "name": "stdout",
     "output_type": "stream",
     "text": [
      "[WinError 2] The system cannot find the file specified: 'cms-workshop'\n",
      "C:\\Users\\Shelby\n"
     ]
    }
   ],
   "source": [
    "cms-workshop"
   ]
  },
  {
   "cell_type": "code",
   "execution_count": 22,
   "metadata": {},
   "outputs": [
    {
     "name": "stdout",
     "output_type": "stream",
     "text": [
      "C:\\Users\n"
     ]
    }
   ],
   "source": [
    "cd .."
   ]
  },
  {
   "cell_type": "code",
   "execution_count": 23,
   "metadata": {},
   "outputs": [
    {
     "name": "stdout",
     "output_type": "stream",
     "text": [
      " Volume in drive C has no label.\n",
      " Volume Serial Number is BA8D-A6C9\n",
      "\n",
      " Directory of C:\\Users\n",
      "\n"
     ]
    },
    {
     "name": "stderr",
     "output_type": "stream",
     "text": [
      "File Not Found\n"
     ]
    }
   ],
   "source": [
    "ls desktop"
   ]
  },
  {
   "cell_type": "code",
   "execution_count": 24,
   "metadata": {},
   "outputs": [
    {
     "name": "stdout",
     "output_type": "stream",
     "text": [
      " Volume in drive C has no label.\n",
      " Volume Serial Number is BA8D-A6C9\n",
      "\n",
      " Directory of C:\\Users\n",
      "\n",
      "09/15/2018  04:22 PM    <DIR>          .\n",
      "09/15/2018  04:22 PM    <DIR>          ..\n",
      "06/22/2018  06:31 PM    <DIR>          Public\n",
      "05/15/2019  02:22 PM    <DIR>          Shelby\n",
      "               0 File(s)              0 bytes\n",
      "               4 Dir(s)  19,102,371,840 bytes free\n"
     ]
    }
   ],
   "source": [
    "ls"
   ]
  },
  {
   "cell_type": "code",
   "execution_count": 25,
   "metadata": {},
   "outputs": [
    {
     "name": "stdout",
     "output_type": "stream",
     "text": [
      " Volume in drive C has no label.\n",
      " Volume Serial Number is BA8D-A6C9\n",
      "\n",
      " Directory of C:\\Users\\shelby\n",
      "\n",
      "05/15/2019  02:22 PM    <DIR>          .\n",
      "05/15/2019  02:22 PM    <DIR>          ..\n",
      "05/15/2019  10:31 AM    <DIR>          .atom\n",
      "05/15/2019  02:07 PM    <DIR>          .ipynb_checkpoints\n",
      "05/15/2019  01:20 PM    <DIR>          .ipython\n",
      "05/15/2019  02:22 PM    <DIR>          .jupyter\n",
      "12/15/2018  08:35 PM    <DIR>          3D Objects\n",
      "05/15/2019  10:12 AM    <DIR>          Anaconda3\n",
      "12/15/2018  08:35 PM    <DIR>          Contacts\n",
      "05/15/2019  02:19 PM    <DIR>          Desktop\n",
      "05/15/2019  10:12 AM    <DIR>          Documents\n",
      "05/15/2019  10:33 AM    <DIR>          Downloads\n",
      "12/15/2018  08:35 PM    <DIR>          Favorites\n",
      "12/15/2018  08:35 PM    <DIR>          Links\n",
      "12/15/2018  08:35 PM    <DIR>          Music\n",
      "04/30/2019  11:48 AM    <DIR>          OneDrive\n",
      "02/28/2019  02:44 AM    <DIR>          Pictures\n",
      "12/15/2018  08:35 PM    <DIR>          Saved Games\n",
      "12/15/2018  08:35 PM    <DIR>          Searches\n",
      "12/15/2018  08:35 PM    <DIR>          Videos\n",
      "               0 File(s)              0 bytes\n",
      "              20 Dir(s)  19,102,371,840 bytes free\n"
     ]
    }
   ],
   "source": [
    "ls shelby"
   ]
  },
  {
   "cell_type": "code",
   "execution_count": 26,
   "metadata": {},
   "outputs": [
    {
     "name": "stdout",
     "output_type": "stream",
     "text": [
      " Volume in drive C has no label.\n",
      " Volume Serial Number is BA8D-A6C9\n",
      "\n",
      " Directory of C:\\Users\n",
      "\n"
     ]
    },
    {
     "name": "stderr",
     "output_type": "stream",
     "text": [
      "File Not Found\n"
     ]
    }
   ],
   "source": [
    "ls desktop"
   ]
  },
  {
   "cell_type": "code",
   "execution_count": 27,
   "metadata": {},
   "outputs": [
    {
     "data": {
      "text/plain": [
       "'C:\\\\Users'"
      ]
     },
     "execution_count": 27,
     "metadata": {},
     "output_type": "execute_result"
    }
   ],
   "source": [
    "pwd"
   ]
  },
  {
   "cell_type": "code",
   "execution_count": 28,
   "metadata": {},
   "outputs": [
    {
     "name": "stdout",
     "output_type": "stream",
     "text": [
      "[WinError 2] The system cannot find the file specified: 'desktop'\n",
      "C:\\Users\n"
     ]
    }
   ],
   "source": [
    "cd desktop"
   ]
  },
  {
   "cell_type": "code",
   "execution_count": 29,
   "metadata": {},
   "outputs": [
    {
     "name": "stdout",
     "output_type": "stream",
     "text": [
      "[WinError 2] The system cannot find the file specified: 'Desktop'\n",
      "C:\\Users\n"
     ]
    }
   ],
   "source": [
    "cd Desktop"
   ]
  },
  {
   "cell_type": "code",
   "execution_count": 30,
   "metadata": {},
   "outputs": [
    {
     "name": "stdout",
     "output_type": "stream",
     "text": [
      "C:\\Users\\Shelby\n"
     ]
    }
   ],
   "source": [
    "cd "
   ]
  },
  {
   "cell_type": "code",
   "execution_count": 31,
   "metadata": {},
   "outputs": [
    {
     "name": "stdout",
     "output_type": "stream",
     "text": [
      "C:\\Users\\Shelby\\Desktop\n"
     ]
    }
   ],
   "source": [
    "cd Desktop"
   ]
  },
  {
   "cell_type": "code",
   "execution_count": 32,
   "metadata": {},
   "outputs": [
    {
     "data": {
      "text/plain": [
       "'C:\\\\Users\\\\Shelby\\\\Desktop'"
      ]
     },
     "execution_count": 32,
     "metadata": {},
     "output_type": "execute_result"
    }
   ],
   "source": [
    "pwd"
   ]
  },
  {
   "cell_type": "code",
   "execution_count": 33,
   "metadata": {},
   "outputs": [
    {
     "name": "stdout",
     "output_type": "stream",
     "text": [
      "C:\\Users\\Shelby\\Desktop\\cms-workshop\n"
     ]
    }
   ],
   "source": [
    "cd cms-workshop"
   ]
  },
  {
   "cell_type": "code",
   "execution_count": 34,
   "metadata": {},
   "outputs": [
    {
     "data": {
      "text/plain": [
       "'C:\\\\Users\\\\Shelby\\\\Desktop\\\\cms-workshop'"
      ]
     },
     "execution_count": 34,
     "metadata": {},
     "output_type": "execute_result"
    }
   ],
   "source": [
    "pwd"
   ]
  },
  {
   "cell_type": "code",
   "execution_count": 35,
   "metadata": {},
   "outputs": [],
   "source": [
    "import os"
   ]
  },
  {
   "cell_type": "code",
   "execution_count": 36,
   "metadata": {},
   "outputs": [],
   "source": [
    "water_file = os.path.join('data', 'water.xyz')"
   ]
  },
  {
   "cell_type": "code",
   "execution_count": 37,
   "metadata": {},
   "outputs": [
    {
     "name": "stdout",
     "output_type": "stream",
     "text": [
      "data\\water.xyz\n"
     ]
    }
   ],
   "source": [
    "print(water_file)"
   ]
  },
  {
   "cell_type": "code",
   "execution_count": 38,
   "metadata": {},
   "outputs": [],
   "source": [
    "import numpy"
   ]
  },
  {
   "cell_type": "code",
   "execution_count": 39,
   "metadata": {},
   "outputs": [
    {
     "name": "stdout",
     "output_type": "stream",
     "text": [
      "['3' 'Water xyz file' 'O        0.000000     -0.007156      0.965491'\n",
      " 'H1      -0.000000      0.001486     -0.003471'\n",
      " 'H2       0.000000      0.931026      1.207929']\n"
     ]
    }
   ],
   "source": [
    "distances = numpy.genfromtxt(fname=water_file, delimiter=',', dtype='unicode')\n",
    "print(distances)"
   ]
  }
 ],
 "metadata": {
  "kernelspec": {
   "display_name": "Python 3",
   "language": "python",
   "name": "python3"
  },
  "language_info": {
   "codemirror_mode": {
    "name": "ipython",
    "version": 3
   },
   "file_extension": ".py",
   "mimetype": "text/x-python",
   "name": "python",
   "nbconvert_exporter": "python",
   "pygments_lexer": "ipython3",
   "version": "3.7.3"
  }
 },
 "nbformat": 4,
 "nbformat_minor": 2
}
